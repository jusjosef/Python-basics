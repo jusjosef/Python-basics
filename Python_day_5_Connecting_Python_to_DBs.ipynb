{
  "nbformat": 4,
  "nbformat_minor": 0,
  "metadata": {
    "colab": {
      "name": "Python day 5- Connecting Python to DBs",
      "provenance": [],
      "collapsed_sections": [],
      "authorship_tag": "ABX9TyN6srGBZue5nOCVaSBnrtvT",
      "include_colab_link": true
    },
    "kernelspec": {
      "name": "python3",
      "display_name": "Python 3"
    }
  },
  "cells": [
    {
      "cell_type": "markdown",
      "metadata": {
        "id": "view-in-github",
        "colab_type": "text"
      },
      "source": [
        "<a href=\"https://colab.research.google.com/github/just-joseph/Python-basics/blob/master/Python_day_5_Connecting_Python_to_DBs.ipynb\" target=\"_parent\"><img src=\"https://colab.research.google.com/assets/colab-badge.svg\" alt=\"Open In Colab\"/></a>"
      ]
    },
    {
      "cell_type": "code",
      "metadata": {
        "id": "RJLx_cK0epn0",
        "colab_type": "code",
        "colab": {}
      },
      "source": [
        "import pyodbc \n",
        "conn = pyodbc.connect('Driver={SQL Server};'\n",
        "                      'Server=server_name;'\n",
        "                      'Database=database_name;'\n",
        "                      'Trusted_Connection=yes;')\n",
        "\n",
        "cursor = conn.cursor()"
      ],
      "execution_count": null,
      "outputs": []
    },
    {
      "cell_type": "code",
      "metadata": {
        "id": "V1gHJYlOewbe",
        "colab_type": "code",
        "colab": {}
      },
      "source": [
        "cursor.execute('SELECT * FROM database_name.table')\n",
        "\n",
        "for row in cursor:\n",
        "    print(row)"
      ],
      "execution_count": null,
      "outputs": []
    },
    {
      "cell_type": "code",
      "metadata": {
        "id": "iIM_--Xae516",
        "colab_type": "code",
        "colab": {}
      },
      "source": [
        "import pandas as pd\n",
        "sql_query = pd.read_sql_query('SELECT * FROM TestDB.dbo.Person',conn)\n",
        "print(sql_query)\n",
        "print(type(sql_query))"
      ],
      "execution_count": null,
      "outputs": []
    }
  ]
}